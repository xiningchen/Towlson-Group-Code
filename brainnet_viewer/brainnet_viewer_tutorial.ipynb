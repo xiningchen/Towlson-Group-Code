{
 "cells": [
  {
   "cell_type": "markdown",
   "metadata": {
    "collapsed": true,
    "pycharm": {
     "name": "#%% md\n"
    }
   },
   "source": [
    "# BrainNet Viewer Tutorial\n",
    "- [X] Required files/input info you need\n",
    "- [X] How to use brainnet_viewer.py\n",
    "- [X] What kind of images you're expecting to get"
   ]
  },
  {
   "cell_type": "markdown",
   "source": [
    "### Center of Gravity (CoG) file.\n",
    "With any brain Atlas you're using, it should have some sort of CoG file that provides\n",
    "the (x,y,z) coordinates of a node in the Atlas. For example the Schaefer2018 Atlas provides the CoG information as a text file.\n",
    "Combining that text file with the node list text file, I like to create a node_cog.xlsx spreadsheet:\n",
    "<img src=\"../figures/cog_sheet.png\" width=\"70%\" height=auto>"
   ],
   "metadata": {
    "collapsed": false,
    "pycharm": {
     "name": "#%% md\n"
    }
   }
  },
  {
   "cell_type": "code",
   "execution_count": 3,
   "outputs": [
    {
     "name": "stdout",
     "output_type": "stream",
     "text": [
      "          region_name          X          Y          Z      r     g      b\n",
      "0  7Networks_LH_Vis_1 -34.680851 -36.204255 -23.795745  120.0  14.0  127.0\n",
      "1  7Networks_LH_Vis_2 -34.190909 -51.245455 -18.709091  120.0  14.0  128.0\n",
      "2  7Networks_LH_Vis_3 -25.634615 -44.519231 -14.538462  120.0  14.0  129.0\n",
      "3  7Networks_LH_Vis_4 -28.015267 -62.763359 -12.366412  120.0  14.0  130.0\n",
      "4  7Networks_LH_Vis_5 -30.729730 -42.594595  -9.027027  120.0  14.0  131.0\n"
     ]
    }
   ],
   "source": [
    "import Towlson_group_code.data_io as my_io\n",
    "# Load in your cog file as a dataframe.\n",
    "cog_df = my_io.import_XLSX(path=\"./\", file_name='Schaefer2018_node_cog.xlsx', sheet_name=\"Sheet_name_1\")\n",
    "print(cog_df.head(5))"
   ],
   "metadata": {
    "collapsed": false,
    "pycharm": {
     "name": "#%%\n"
    }
   }
  },
  {
   "cell_type": "markdown",
   "source": [
    "The Atlas comes with some r,g,b color code for each node. We don't need them so we can drop these columns or simply ignore them.\n",
    "The most important thing is that you have the X, Y, Z columns.\n",
    "We're going to reset the index of the dataframe so that 'region_name' becomes the index instead of row numbers (0, 1, 2, ...)"
   ],
   "metadata": {
    "collapsed": false,
    "pycharm": {
     "name": "#%% md\n"
    }
   }
  },
  {
   "cell_type": "code",
   "execution_count": 4,
   "outputs": [
    {
     "name": "stdout",
     "output_type": "stream",
     "text": [
      "                            X          Y          Z\n",
      "region_name                                        \n",
      "7Networks_LH_Vis_1 -34.680851 -36.204255 -23.795745\n",
      "7Networks_LH_Vis_2 -34.190909 -51.245455 -18.709091\n",
      "7Networks_LH_Vis_3 -25.634615 -44.519231 -14.538462\n",
      "7Networks_LH_Vis_4 -28.015267 -62.763359 -12.366412\n",
      "7Networks_LH_Vis_5 -30.729730 -42.594595  -9.027027\n"
     ]
    }
   ],
   "source": [
    "cog_df = cog_df.drop(columns=['r', 'g', 'b'], axis=1)\n",
    "cog_df.set_index('region_name', inplace=True)\n",
    "print(cog_df.head(5))"
   ],
   "metadata": {
    "collapsed": false,
    "pycharm": {
     "name": "#%%\n"
    }
   }
  },
  {
   "cell_type": "markdown",
   "source": [
    "### Metric values using Color\n",
    "Whatever metric values you want to encode into your network. For example, you want to show hub nodes as red,\n",
    "and non-hub nodes as grey.\n",
    "\n",
    "You pick the actual color in BrainNet Viewer's GUI, but you have to separate those you want to color \"red\" vs.\n",
    "nodes that you want to color something else. I will encode \"red\" with the integer value \"1\" and \"other color\" to 0.\n",
    "If you want to use 5 different colors, you'll have 5 integer values, say: 1,2,3,4,5. You'll choose which index is what color\n",
    "in BrainNet Viewer."
   ],
   "metadata": {
    "collapsed": false,
    "pycharm": {
     "name": "#%% md\n"
    }
   }
  },
  {
   "cell_type": "code",
   "execution_count": 6,
   "outputs": [
    {
     "name": "stdout",
     "output_type": "stream",
     "text": [
      "File saved to example.node\n"
     ]
    }
   ],
   "source": [
    "import brainnet_viewer as bnv\n",
    "color_dict = {x: 0 for x in cog_df.index}\n",
    "color_dict['7Networks_LH_Vis_1'] = 1\n",
    "color_dict['7Networks_LH_Vis_2'] = 1\n",
    "color_dict['7Networks_LH_Vis_3'] = 1\n",
    "\n",
    "# export a .node file to current directory\n",
    "bnv.export_node_file(\"./\", cog_df, color=color_dict, file_name=\"example\")"
   ],
   "metadata": {
    "collapsed": false,
    "pycharm": {
     "name": "#%%\n"
    }
   }
  },
  {
   "cell_type": "markdown",
   "source": [
    "# Viewing the .node in BrainNet Viewer Application\n",
    "Load the .node file into BrainNet Viewer. (See README)\n",
    "\n",
    "Go to the Node tab under Options.\n",
    "\n",
    "### Label Option\n",
    "- Default is Label None. Click Label to display node names. Use the font button to adjust font.\n",
    "- If you have a lot of nodes, this is usually terrible. You can use the \"Above Threshold\" to display certain node names.\n",
    "It'll take a few practices to figure out how you can use this feature.\n",
    "\n",
    "### Size Option\n",
    "- Adjusts size of nodes. It can be a scaled factor of what you stored in the .node file.\n",
    "- With \"auto\" size, your nodes might be too big. I recommend selecting \"Equal\" (assuming your node sizes are fixed) and\n",
    "set the value to 1. If your node sizes are suppose to change, select \"Value\" and use \"raw\" option. This will take the\n",
    "size value in your .node file and use that as size. A good range is around 1 - 4.\n",
    "\n",
    "### Color Option\n",
    "- Default is \"Same\", all nodes are the same color.\n",
    "- Select \"Modular\". Click \"More\".\n",
    "Now you should see you have X number of modules. This corresponds to the integer values you picked for your colors.\n",
    "The modules are named according to your integer values. For example, I see \"Module0\" and \"Module1\" because I had color\n",
    "values 0 and 1. Now I select Module0 to be grey, and Module1 to be red.\n",
    "\n",
    "Once you're done with your options. Click *Apply* and **wait**... **Keep waiting**.\n",
    "\n",
    "Along the top of BrainNet Viewer, you'll see some icons lie Zoom in, Zoom out, a hand, and this cube with an arrow.\n",
    "**Click the cube with the arrow**. Now click the brain and move your mouse. You should see a 3D glass brain with nodes\n",
    "suspended in it and you can rotate to view at different angles."
   ],
   "metadata": {
    "collapsed": false,
    "pycharm": {
     "name": "#%% md\n"
    }
   }
  }
 ],
 "metadata": {
  "kernelspec": {
   "display_name": "Python 3",
   "language": "python",
   "name": "python3"
  },
  "language_info": {
   "codemirror_mode": {
    "name": "ipython",
    "version": 2
   },
   "file_extension": ".py",
   "mimetype": "text/x-python",
   "name": "python",
   "nbconvert_exporter": "python",
   "pygments_lexer": "ipython2",
   "version": "2.7.6"
  }
 },
 "nbformat": 4,
 "nbformat_minor": 0
}