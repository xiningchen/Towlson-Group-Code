{
 "cells": [
  {
   "cell_type": "markdown",
   "metadata": {
    "collapsed": true,
    "pycharm": {
     "name": "#%% md\n"
    }
   },
   "source": [
    "# Meeting\n",
    "## \"Solutions\" (Demo code + functions)\n",
    "- Github vs Dropbox\n",
    "- Functions\n",
    "- Demo code file\n",
    "\n",
    "## \"Problems\"\n",
    "- Random model for z-rand score? (for each patient brain?!)\n",
    "- Partition to functional system assignment?\n",
    "- Neural Nets\n",
    "- ML"
   ]
  },
  {
   "cell_type": "code",
   "execution_count": null,
   "outputs": [],
   "source": [
    "# Example reading xlsx files and stored as a dictionary\n",
    "\n",
    "# Example of creating a graph network from brain connectome spreadsheet\n"
   ],
   "metadata": {
    "collapsed": false,
    "pycharm": {
     "name": "#%%\n"
    }
   }
  }
 ],
 "metadata": {
  "kernelspec": {
   "display_name": "Python 3",
   "language": "python",
   "name": "python3"
  },
  "language_info": {
   "codemirror_mode": {
    "name": "ipython",
    "version": 2
   },
   "file_extension": ".py",
   "mimetype": "text/x-python",
   "name": "python",
   "nbconvert_exporter": "python",
   "pygments_lexer": "ipython2",
   "version": "2.7.6"
  }
 },
 "nbformat": 4,
 "nbformat_minor": 0
}